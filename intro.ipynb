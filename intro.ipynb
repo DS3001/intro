{
 "cells": [
  {
   "cell_type": "markdown",
   "id": "540cf327",
   "metadata": {},
   "source": [
    "# Introduction to Machine Learning\n",
    "## Machine Learning 1\n",
    "### `! git clone https://www.github.com/DS3001/intro`"
   ]
  },
  {
   "cell_type": "markdown",
   "id": "f4ab8c10-4104-4e8c-8aa8-41e166fb8f72",
   "metadata": {},
   "source": [
    "## What is Data Science?\n",
    "- Data science is a multi-disciplinary activity where the gathering, representation, analysis, and use of data are the focus\n",
    "- Data science is a methodology that can be deployed anywhere: public health, agriculture, neurobiology, public policy, aerospace engineering, economics, etc.\n",
    "- Analytics/Machine Learning is an important part of this process: Using data to build models that bear sufficient verisimilitude to reality to be used as predictive/explanatory/generative tools\n",
    "- Most data scientists specialize in a particular field, but data science is inherently multi-disciplinary: A computer scientist, a statistician, and an applied mathematician/engineer/sociologist/physicist/economist/etc. do not make a data scientist."
   ]
  },
  {
   "cell_type": "markdown",
   "id": "46c6f4c2",
   "metadata": {},
   "source": [
    "## What is Data Science?\n",
    "  - Design: The philosophy and understanding of the goals of the project and how users will interact with the systems and analysis created (e.g. human-centered design, visualization)\n",
    "  - Systems: The engineering of computers and devices to gather and store data in ways that facilitate understanding them (e.g. setting up a data pipeline into an SQL database)\n",
    "  - Analytics: The algorithms and strategies used for analysis and optimization (e.g. creating a predictive model for which people get sick/purchase a product/etc. and then recommending a treatment/price/course of action) \n",
    "  - Policy/Value: Understanding the consequences and limits of the analysis and ramifications of deployment/publication (e.g. should we be worried about predictive models for medical complications or loan approval or prison sentencing or AI-generated content?)\n",
    "  - Practice: Competence in another field that allows the productive application of Data Science (e.g. engineering, physics, public health, business, genomics, economics, etc. )"
   ]
  },
  {
   "cell_type": "markdown",
   "id": "e41e67c6",
   "metadata": {},
   "source": [
    "## The UVA-SDS Model\n",
    "\n",
    "![Data Science](SDSDS.jpg)\n",
    "\n",
    "(This is, itself, an example of ``Design'' --- seeing it shapes the way you conceptualize and think about what data science is)"
   ]
  },
  {
   "cell_type": "markdown",
   "id": "38b146cc",
   "metadata": {},
   "source": [
    "## This Class: Machine Learning 1\n",
    "- The goal of the class is to introduce you to foundational concepts and tools in machine learning (models/algorithms, model selection/regularization, cross validation)\n",
    "- More generally, we want to train you to approach data problems with cautious confidence and get experience working with data\n",
    "- There will always be a shiny new language, an exciting new algorithm, and a popular new software package: Training your mind to transcend the fads and the noise to think critically and make good decisions about data and modeling is vastly more important than chasing trends"
   ]
  },
  {
   "cell_type": "markdown",
   "id": "68c51d3e",
   "metadata": {},
   "source": [
    "## Machine Learning\n",
    "- Machine learning is the use of algorithms implemented on computers (the machine) to analyze data (the learning)\n",
    "- The machine will be Google Colab and the Rivanna High Performance Computing Cluster at UVa, and we will use a programming language called Python to implement algorithm and estimate models, through an intergrated development environment called Jupyter Lab\n",
    "- Course content will be hosted on GitHub and pulled onto Colab or Rivanna; when completed, you'll push your work back to your own Github repos where it will be graded\n",
    "- The goal is for you to get off your laptop and build a portfolio of your work; this transition will be gradual"
   ]
  },
  {
   "cell_type": "markdown",
   "id": "4150541c",
   "metadata": {},
   "source": [
    "## Outline of the Class\n",
    "- Unit I: Procedural Programming, Wrangling Data, Exploratory Data Analysis, Data Visualization\n",
    "- Unit II: Introduction to Algorithms ($k$-Nearest Neighbor, $k$-Means Clustering, Linear Models, Decision Trees)\n",
    "- Unit III: Tuning/Testing/Evaluating Models (Bootstrapping, Cross Validation, Ensemble Methods, Regularization)"
   ]
  },
  {
   "cell_type": "markdown",
   "id": "63e529f7",
   "metadata": {},
   "source": [
    "## Grading\n",
    "- There are assignments and class projects. There are no traditional exams.\n",
    "- The *assignments* are to give you experience working with computers, data, and models. There is typically a correct answer. Either your code works or it doesn't. The goal is to acquire skills and qualitative understanding.\n",
    "- The *projects* are \"real\" work on \"real\" data, and answers are either better or worse, or more or less useful. Take the time to understand the data and problem, and exercise creativity and independent thinking. Embrace the challenge. Grades depend on results.\n",
    "- The emphasis in this class is on gaining intuition into how the tools work through assignments and then being creative on projects"
   ]
  },
  {
   "cell_type": "markdown",
   "id": "dca48070",
   "metadata": {
    "editable": true,
    "slideshow": {
     "slide_type": ""
    },
    "tags": []
   },
   "source": [
    "## Books/References\n",
    "- I do not really think you need a book specifically for this class, but many people like to have them. \n",
    "- The most useful places to go are often for specific questions are [CrossValidated (link)](https://stats.stackexchange.com) and [StackOverflow (link)](https://stackexchange.com)\n",
    "- Here are books that I often referred to in putting the class together, from \"easy/simple\" to \"hard/complex\", and all are worth owning:\n",
    "  - Beginner: *Introduction to Machine Learning*, by Paul Wilmott; *Introduction to Machine Learning with Python*, by Muller and Guido\n",
    "  - Intermediate: *An Introduction to Statistical Learning*, by James, Witten, Hastie, and Tibshirani; *Machine Learning with Python Cookbook*, by Chris Albon\n",
    "  - Advanced: *Elements of Statistical Learning*, by Hastie, Tibshirani, and Friedman; *Hands-on Machine Learning with Scikit-Learn, Keras & TensorFlow*, by Aurelien Geron"
   ]
  },
  {
   "cell_type": "markdown",
   "id": "e451daba-dc69-4f98-b30f-07de93082217",
   "metadata": {},
   "source": [
    "## GitHub\n",
    "- The core tool of the course is GitHub: A system that allows us to easily share and collaborate on work online (code, text, etc.)\n",
    "- **Please create a GitHub account as soon as possible, if you don't already have one**\n",
    "- All of the course content will be delivered on GitHub\n",
    "- You'll create a copy (fork) of directories there and work within those directories (repos), and then submit that repo to be graded\n",
    "- Canvas is not the hub of the course; GitHub is the hub of the course"
   ]
  },
  {
   "cell_type": "markdown",
   "id": "97c2e5be-b328-4b00-a74c-6445b6438d4e",
   "metadata": {},
   "source": [
    "## Artificial Intelligence\n",
    "- Use generative AI as much as you want to implement your vision: Good programmers already use established code bases and the Internet to economize on their time\n",
    "- If you use a large chunk of code generated by an AI, cite it in the code comments (there is no penalty for doing this, it is a good thing)\n",
    "- If you use a large chunk of code generated by an AI, notice that you are not developing as a programmer and will eventually become dependent on the AI"
   ]
  },
  {
   "cell_type": "markdown",
   "id": "cf799907",
   "metadata": {},
   "source": [
    "## This class is for everyone\n",
    "- From the syllabus: \"Everyone is welcome to participate in this class, of any age, culture, gender, language or geographic heritage, learning and physical abilities, political or social beliefs, race or ethnicity, religious or spiritual beliefs, sex, and social or economic class. Conversely, everyone participating in this class is expected to respect the dignity and humanity of their peers. Please feel free to approach or email your TA or instructor with instructions about how you would like to be addressed.\""
   ]
  },
  {
   "cell_type": "markdown",
   "id": "3f8ffbe0",
   "metadata": {
    "editable": true,
    "slideshow": {
     "slide_type": ""
    },
    "tags": []
   },
   "source": [
    "## Who am I?\n",
    "- Terence Johnson, PhD Economics, BS Math/Econ/PoliSci\n",
    "- Research: Development Economics, Mechanism Design\n",
    "- Been teaching university courses since 2007 at the University of Maryland, Notre Dame, and Batten/Economics at UVa\n",
    "- Conducted randomized controlled trials in Ghana, Burkina Faso, Kenya, Uganda, Senegal, Tanzania, Mexico. Member of Innovations for Poverty Action (Yale), Jameel Abdul Latif Poverty Action Lab (MIT). Research funded by the B&M Gates Foundation, PEDL, World Bank. Published in *American Economic Journal: Applied*, *Journal of Economic Theory*, *Journal of Development Economics*, *Economic Theory*, *Handbook of Market Design*\n",
    "- Use machine learning to design policy interventions and maximize the impact of social/economic programs"
   ]
  },
  {
   "cell_type": "markdown",
   "id": "110c9295",
   "metadata": {},
   "source": [
    "## Our Systems: Python and Jupyter Lab\n",
    "- Python is a general purpose computing language with extensive machine learning support\n",
    "- It is an **interpreted language**, meaning that the interactive Python interpreter waits for you to give it commands, and then it executes them\n",
    "- To interact with the IPython interpreter, we'll use a browser-based IDE called Jupyter Lab\n",
    "- Programming in data science is about quickly iterating on an analysis to get the best answer possible, and that's what Jupyter Lab is designed for"
   ]
  },
  {
   "cell_type": "markdown",
   "id": "34fb36ff-ea88-4338-bbdb-fc61e8e847f5",
   "metadata": {},
   "source": [
    "## Our Systems: Google Colab and Rivanna HPC\n",
    "- There are a variety of reasons not to install a data science stack on your personal computer (accessibility, variability, equity)\n",
    "- Mostly, we want to get you off your personal computer and using the tools that make development possible in complex environments\n",
    "- Our simple/entry-level option is Google Colab, and our more complex and demanding option is Rivanna HPC at UVa\n",
    "- We will start on Google Golab and transition to Rivanna as enrollment in the class stabilizes"
   ]
  },
  {
   "cell_type": "markdown",
   "id": "8c9630cb",
   "metadata": {},
   "source": [
    "## Our Systems: Git and GitHub\n",
    "- Content for the class will be hosted on GitHub\n",
    "- The purpose of this is to teach you another set of important tools: How to collaborate on a data science project and get off your personal computer\n",
    "- In the \"real world,\" people use tools like GitHub instead of Dropbox/Box/Google Drive, and learning about GitHub opens up a new world of software for you to use\n",
    "- At the end of the class, you'll have a portfolio of your work, and you can come back to it later to get code that you've developed for future projects"
   ]
  },
  {
   "cell_type": "markdown",
   "id": "2a05a43c-36a5-4813-a338-779c7debf721",
   "metadata": {},
   "source": [
    "## Communicating: Slack\n",
    "- There is a Slack situation for the course: https://join.slack.com/t/foundationsof-stp7983/shared_invite/zt-2as724lqt-da6OH9yXwBl6tEcb4C~3eA\n",
    "- There are channels for asking general and homework questions, which I'll monitor\n",
    "- We'll add channels for group work: I am tired of hearing how dysfunctional your group chats are, because it's the wrong technology or because one or more group members are making bad choices "
   ]
  },
  {
   "cell_type": "markdown",
   "id": "b23819b6-22de-4047-927f-1523b76c664d",
   "metadata": {},
   "source": [
    "## Language/IDE/Software Preferences\n",
    "- I mostly use R, and have done projects in C++, FORTRAN, MATLAB, Stata, and Python\n",
    "- Every language is roughly the same to me at this point (except Stata), and think debating which is \"better\" is useful: What matters is using the best tool for the job\n",
    "- Likewise, debates about IDE's are not something I find useful: Jupyter Notebooks have grown on me, but I understand if you are used to a more full-featured IDE like VS Code or RStudio or PyCharm (I prefer VS Code and RStudio to Jupyter, personally)\n",
    "- As long as you are programming in Python and submitting your results in .ipynb files that the grader can easily read, I don't care how you do it: The Colab-Rivanna/Jupyter Lab solution will, however, work for everyone who takes the class"
   ]
  },
  {
   "cell_type": "markdown",
   "id": "0b7f5d1e",
   "metadata": {
    "editable": true,
    "slideshow": {
     "slide_type": ""
    },
    "tags": []
   },
   "source": [
    "## What is the goal of the class? \n",
    "- The goal of the class is to learn ideas that transcend Python/Jupyter and whatever the next set of trends are: How do you create real insight and value?\n",
    "- If all you learn is how to manipulate code and the trendiest toys and how to code some models, you are extremely replaceable. The future belongs to people who can think clearly and have applied experience that informs their analysis and decisions.\n",
    "- That said, the beginning focuses a lot on the tasks that students find deeply unexciting but are absolutely necessary for data analysis to succeed."
   ]
  },
  {
   "cell_type": "markdown",
   "id": "3a46f8e6-5aa3-4bf3-bc4a-6509e3b25f69",
   "metadata": {
    "editable": true,
    "slideshow": {
     "slide_type": ""
    },
    "tags": []
   },
   "source": [
    "## Getting Started with Google Colab and GitHub\n",
    "- Go to [Google Colab (link)](https://colab.google/) and open a `New Notebook`\n",
    "- This is a Jupyter Lab session, hosted by Google\n",
    "- Each \"box\" in the notebook window is a *code chunk*, and when you type `CTRL+Enter`, it executes the code in that chunk (`ALT+Enter` executes the chunk and creates another chunk after it)\n",
    "- This makes *learning* coding, debugging, and how to use particular packages easy\n",
    "- We're introducing Google Colab as a backstop technology: If there is some reason you need  instant access to a Jupyter Notebook and Rivanna is unavailable for some reason, you can always use Google Colab as a last resort"
   ]
  },
  {
   "cell_type": "markdown",
   "id": "6262bb02-78d7-424a-b22c-08b1efb47549",
   "metadata": {},
   "source": [
    "## Getting Started with Google Colab and GitHub\n",
    "![Google Colab](colab.png)``\r\n"
   ]
  },
  {
   "cell_type": "markdown",
   "id": "901d0d9e-4c81-4da6-92ac-32ca9288ef8f",
   "metadata": {
    "editable": true,
    "slideshow": {
     "slide_type": ""
    },
    "tags": []
   },
   "source": [
    "## Getting Started with Google Colab and GitHub\n",
    "- Git is version control software that allows teams of people to work on a project all at the same time, track their changes, and merge their work back together\n",
    "- GitHub is a web-based service that hosts directories that use Git, called **repositories** or repos\n",
    "- Over the course, we'll introduce more features of Git and GitHub (commit, branch, push, merge)\n",
    "- The material for this course is hosted at this repository: [Course Content (link)](https://github.com/DS3001)"
   ]
  },
  {
   "cell_type": "markdown",
   "id": "36c1ca08-59fb-4599-968f-3e4dda11597c",
   "metadata": {},
   "source": [
    "## Getting Started with Google Colab and GitHub\n",
    "- To get this lecture, click `File -> Open Notebook -> GitHub` and type `DS3001` into the search box. The file `intro.ipynb` should appear, which generates these slides.\n",
    "- To import the entire repo into your Colab workspace, type the following in a code chunk and execute it by pressing `CTRL+Enter`:\n",
    "    - `! git clone https://www.github.com/DS3001/intro`\n",
    "- There will be a GitHub clone command at the top of every lecture, and the html/handouts/slides version will be on canvas\n",
    "- So wherever you are and whatever machine you're working on, you'll get able to get the class content from GitHub\n",
    "- In general, files and work are not persistent on Colab unless you have Google Drive, so make sure to download any files you edit and want to keep before you exit Colab (Rivanna will be persistent)"
   ]
  }
 ],
 "metadata": {
  "kernelspec": {
   "display_name": "Python 3 (ipykernel)",
   "language": "python",
   "name": "python3"
  },
  "language_info": {
   "codemirror_mode": {
    "name": "ipython",
    "version": 3
   },
   "file_extension": ".py",
   "mimetype": "text/x-python",
   "name": "python",
   "nbconvert_exporter": "python",
   "pygments_lexer": "ipython3",
   "version": "3.11.4"
  }
 },
 "nbformat": 4,
 "nbformat_minor": 5
}
